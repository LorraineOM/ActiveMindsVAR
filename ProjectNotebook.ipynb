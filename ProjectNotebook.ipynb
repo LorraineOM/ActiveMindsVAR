{
 "cells": [
  {
   "cell_type": "markdown",
   "metadata": {},
   "source": [
    "# Project Description"
   ]
  },
  {
   "cell_type": "markdown",
   "metadata": {},
   "source": [
    "My project is a Choose Your Own Adventure Game. There are several choices you can make but ultimately you'll end up in the same place, hopefully learning the same important information. The project takes in user input to navigate and progress throughout the adventure. In this adventure you'll first be introduced to this concept of \"VAR\" before going through this \"workshop\" section that details each part of VAR. After learning about VAR you'll get to put your knowledge to use as you practice what you've learned by picking responses in a scenario you might experience in real life. Lastly, as a shameless plug as Active Minds @ UCSD's VP, if you choose to learn more about Active Minds, I included some information about the organization as well as our social media.  \n",
    "\n",
    "Originally I wanted to do a text-adventure/visual novel type of project but I couldn't come up with any solid ideas on what to write about if it were following a specific storyline. So in order to still have that visual novel /choose-your-own-adventure feel, I decided to somewhat morph it with a VAR (Validate, Appreciate, Refer) training workshop that my organization (Active Minds @ UCSD) held a while ago. Melded together, I turned my project into a type of educational visual novel/choose-your-own-adventure where it presents you with a type of workshop where it teaches you about each part of VAR followed by a scenario you might encounter in real life so that you can practice what you learned about VAR. Sometimes it can be difficult to know what to say when someone you know and love is going through tough times and needs support. To address this, VAR can be a useful tool to remember and use. Additionally, not everyone may have access to a VAR workshop, let alone practice, so a program like this could serve as a helpful substitute. \n",
    "\n",
    "My code includes a lot of nested functions inside one another as that's what made sense to me at the time. However, after reflecting on things, I definitely think that there could be a simpler, cleaner, less confusing way to have formatted things to make things easier for both me and probably even the user. Since a lot of my code were print statements, text, and user inputs, I wished that I did even more research than the research I've done when working with this kind of code. For instance, when it came to test functions and doc strings, I found myself struggling at first with what to do but atfer some trial and error I feel like I was able to work things out in the end. For my code, I made sure to include responses to various inputs but I wanted to include or address the instance of where someone was to input the wrong thing so they're redirected back to the original question or prompt input to try again. I've heard various methods to do this such as including separate functions for the input choices, a restart function, or a counter to check the amount of correct inputs before moving on, but I wasn't able to research or implement these methods due to time constraints, so what's in my code is what I have and ended up with. In the beginning I also wanted to implement some user information, such as name, but I wanted to do more with it. Lastly, I tried my best to have good coding style and to abide by PEP8 guidelines, but since a lot of my code was text and print statement based, I found myself struggling with strings when it came to the character amount of lines, when to shift them into the next line, how to wrap long lines, and letters from words being cut off into the next line when executing the actual program. So while I did my best to try to condense things and keep them both short and clean, I still feel like there's instances where it could be shorter and cleaner. In the end after thinking back on things such as what I could've done better or what I can do to improve my project in the future, I definitely want to implement more user information, implement something that addresses the instance of inputting something incorrectly and returning back to the original input prompt so you can properly go through the program and learn the correct options (after making mistakes), find ways to format my code so that its less confusing, follow PEP8 guidelines better so that I can have better coding style especially in terms of strings, and do more research on the type of code I did so that I can better understand and utilize it (for instance, I remember reading in a past student's final project that they used monkeypatch in their choose-your-own-adventure as it was an easier way to test functions that require a user input like mine did). \n",
    "\n",
    "Regarding not being able to go back if you make a wrong input, if you successfully want to be able to go through the whole adventure with maximum learning potential, all answers should be \"yes\" and \"A.\" Providing any other answer, as I've found, would just provide an output discussing how it was the incorrect choice and move on to the next section. \n",
    "\n",
    "I was somewhat lost with how to start and format my project, so I got inspiration from multiple places online such as past students' projects (https://github.com/sophiewfrancis/Choose-Your-Own-Adventure-Final, https://github.com/AndrewFellowes/DnD-Game) and tutorials from Google (https://trinket.io/python/e5a03e7cbc, https://www.youtube.com/watch?v=DEcFCn2ubSg). Regarding my information on VAR, I utilized a lot of information from and gained inspiration from the Active Minds VAR workshop (I'd paste the link to the powerpoint here but the link permission is set to editors and to be safe, I don't want anything happening to the powerpoint).\n",
    "\n",
    "I'm really happy with how far I've come in the class and I hope you enjoy this!"
   ]
  },
  {
   "cell_type": "markdown",
   "metadata": {},
   "source": [
    "## Project Code\n",
    "\n",
    "If it makes sense for your project, you can have code and outputs here in the notebook as well."
   ]
  },
  {
   "cell_type": "code",
   "execution_count": 4,
   "metadata": {},
   "outputs": [],
   "source": [
    "from my_module.functions import introduction\n",
    "from my_module.functions import active_minds_plug\n",
    "from my_module.functions import var_info\n",
    "from my_module.functions import var_scenario"
   ]
  },
  {
   "cell_type": "code",
   "execution_count": 5,
   "metadata": {},
   "outputs": [
    {
     "name": "stdout",
     "output_type": "stream",
     "text": [
      "Enter your name: lorraine\n",
      "Hello, it's nice to meet you lorraine\n",
      "\n",
      "I'm Lorraine and I'm the VP of Active Minds here at UCSD! I'm really excited to teach you about VAR.\n",
      "\n",
      "VAR stands for Validate, Appreciate, and Refer.\n",
      "VAR is an ancronym you can use when navigating through tough conversations with someone in need of support. It can allow you to actively listen to someone you care about and help them cope.\n",
      "Conversations using VAR can take many forms, such as through the phone, in-person, text, etc. The method doesn't matter much but what does matter is the message that you care.\n",
      "A conversation such as this could help make all the difference and prevent a crisis from developing later on.\n",
      "\n",
      "Let's start going through each letter of VAR, are you ready?\n",
      "yes/no\n",
      "yes\n",
      "Great! Let's start with the letter 'V' for Validate.\n",
      "In this part, the key is to validate someone's feelings.\n",
      "Let the person know that what they're feeling is okay and valid; that you're listening to and believing them.\n",
      "Some words of validation can include:\n",
      "\n",
      " That sounds difficult\n",
      " I'm so sorry to hear that you're strugging right now\n",
      " It sounds like you're having a really hard time right now\n",
      "\n",
      "Are you ready to move onto the letter 'A'? \n",
      "yes/no\n",
      "yes\n",
      "With 'A' standing for Appreciate, it's all about appreciating someone's courage for speaking up.\n",
      "Let the person know that while speaking up is difficult, they're doing the right thing; voicing their feelings is important and you're there to support them.\n",
      "Some words of appreciation can include:\n",
      "\n",
      " Thank you for sharing\n",
      " I'm here for you if you want to talk or need anything\n",
      " We all need support sometimes\n",
      "\n",
      "Are you ready to move onto the final letter, 'R'? \n",
      "yes/no\n",
      "yes\n",
      "'R' stands for Refer and you're refering someone to skills and support.\n",
      "Let the person know that help is available and refer them to the appropriate resources.\n",
      "You can discuss what kind of skills and support helped you when you were in a similar situation.\n",
      "Some words of refering someone can include:\n",
      "\n",
      " It might be a good idea to make an appointment with CAPS. If you want I can be by your side while you give them a call. \n",
      " We can plan to study sometime at the library\n",
      " I've been using this meditation app and it's really helped slow down my thoughts.\n",
      "\n",
      "I know that was a lot of information to learn, but let's try putting that knowledge into practice!\n",
      "\n",
      "Are you ready to try a scenario?\n",
      "yes/no\n",
      "yes\n",
      "Perfect, let's get started!\n",
      "This scenario focuses on your friend coming to you for support because they're lacking motivation\n",
      "friend: Hey, can I be honest with you? Maybe you've been experiencing the same thing with remote learning.\n",
      "\n",
      " A. Of course! what's up?\n",
      " B. Yeah, sure thing, I'm all ears.\n",
      "\n",
      "Please pick A or B\n",
      "A\n",
      "friend: Well, I've been having a hard time getting out of bed everyday. I've been missing classes and I've hardly done any of my assignments. I just can't get myself motivated.\n",
      "\n",
      " A. Oh man, I'm so sorry to hear that you're struggling with all of this right now. I definitely resonate with how you're feeling as I've felt that way sometimes too and I understand how hard it is.\n",
      " B. Oh wow, uhm, that sounds really tough but unfortunately I can't really relate.\n",
      "\n",
      "Please pick A or B\n",
      "A\n",
      "friend: R-really?! Oh wow, it's reassuring to know that I'm not the only one feeling like this, y'know it sometimes feels like everyone at the school knows what they're doing and has everything under control. I thought I was just dumb.\n",
      "\n",
      " A. Yeah, I agree! You're definitely not the only one who feels that way sometimes. We all struggle at times! I just want you to know that I appreciate you opening up to me about this sort of thing, I bet it must've been pretty hard to do.\n",
      " B. Yeah, it's like that sometimes. I don't know why you decided to open up to me, I'm not the best at this type of thing.\n",
      "\n",
      "Please pick A or B\n",
      "A\n",
      "friend: Thanks, it really means a lot to me knowing that I can talk to you about this stuff. I didn't know who to turn to or what to do.\n",
      "\n",
      " A. Don't worry, I'll be here to support you and if you need anything at all, please let me know. I know alot of resources or tricks that could be helpful!\n",
      " B. Maybe you should've gone to CAPS or something? I don't know, I heard that people find them useful.\n",
      "\n",
      "Please pick A or B\n",
      "A\n",
      "friend: You do? That's great! I haven't really put much thought into it, so any help is very much appreciated. What sort of ideas did you have in mind?\n",
      "\n",
      " A. Oh yeah, sure thing! How about this, I send you reminder texts right before class so you remember or at least have a reminder to go? I can also text you every now and then to check up on you and see how things are! Getting reminders from my friends has usually worked wonders for me, so hopefully it does for you too!\n",
      " B. Uhm, there's way too many, it might just be better for you to just go online and research something yourself.\n",
      "\n",
      "Please pick A or B\n",
      "A\n",
      "friend: That's a great idea actually! I'd really appreciate it. Those reminders seem like they'd be a huge help.\n",
      "\n",
      "Thank you so much for participating in my workshop! I hope you enjoyed learning about practicing VAR. Please let me know if you want to learn more about Active Minds.\n",
      "\n",
      "\n",
      " A. What is Active Minds and how can I stay up to date with events?\n",
      " B. I'm all good, thank you!\n",
      "\n",
      "Please type in A or B\n",
      "A\n",
      "The mission of Active Minds is to change the conversation about mental health. Active Minds at UCSD is a student-run organization dedicated to mental health advoacy and the destigmatization of mental illnesses both on campus and in the local community. We host volunteer events, administer workshops, and feature speakers to educate on mental health.\n",
      "If you follow us on Facebook using @activemindsatucsd or Instagram with @activemindsucsd you can keep track of events. You can also check out our website 'https://activemindsucsd.wordpress.com' to learn more about us!\n",
      "Thanks and have a great rest of your day!\n"
     ]
    }
   ],
   "source": [
    "game = introduction(), var_info(), var_scenario(), active_minds_plug()"
   ]
  },
  {
   "cell_type": "code",
   "execution_count": null,
   "metadata": {},
   "outputs": [],
   "source": [
    "# Do a bunch of things."
   ]
  },
  {
   "cell_type": "code",
   "execution_count": 1,
   "metadata": {},
   "outputs": [
    {
     "name": "stdout",
     "output_type": "stream",
     "text": [
      "\u001b[1m============================= test session starts ==============================\u001b[0m\r\n",
      "platform linux -- Python 3.7.6, pytest-6.1.2, py-1.9.0, pluggy-0.13.1\r\n",
      "rootdir: /home/lmaraan/Project_COGS18_WI21\r\n",
      "collected 4 items                                                              \u001b[0m\r\n",
      "\r\n",
      "my_module/test_functions.py \u001b[32m.\u001b[0m\u001b[32m.\u001b[0m\u001b[32m.\u001b[0m\u001b[32m.\u001b[0m\u001b[32m                                         [100%]\u001b[0m\r\n",
      "\r\n",
      "\u001b[32m============================== \u001b[32m\u001b[1m4 passed\u001b[0m\u001b[32m in 0.02s\u001b[0m\u001b[32m ===============================\u001b[0m\r\n"
     ]
    }
   ],
   "source": [
    "# test it out\n",
    "!pytest my_module/test_functions.py"
   ]
  },
  {
   "cell_type": "markdown",
   "metadata": {},
   "source": [
    "#### Extra Credit (*optional*)\n",
    "Going into this class, I had little to no prior coding experience in any language. In one of my past quarters I enrolled in CSS1 and the experience was so overwhelming and intimidating as it seemed like everyone knew what they were doing so asking questions made me feel like I was the odd one in the group and the professor was going so fast, I couldn't keep up, so learning python in that class didn't last long. My approach was challenging for me because I felt like I was trying to accomplish a lot of complex things in a more simplified manner that took more time than I thought it would. Despite this, I am really proud of the final result because I incorporated multiple ideas from the course as well as ideas that I've learned online to create something that involves one of my passions: mental health. I think that I went above and beyond with my project because not only did I have to work hard with concepts like if/elif/else statements, I also had to do further research on user input in a sort of text-adventure format (especially when it came to format with the use of \\n) while figuring out what mental health information to include (such as creating a scenario with choices).       "
   ]
  }
 ],
 "metadata": {
  "kernelspec": {
   "display_name": "Python 3",
   "language": "python",
   "name": "python3"
  },
  "language_info": {
   "codemirror_mode": {
    "name": "ipython",
    "version": 3
   },
   "file_extension": ".py",
   "mimetype": "text/x-python",
   "name": "python",
   "nbconvert_exporter": "python",
   "pygments_lexer": "ipython3",
   "version": "3.7.6"
  }
 },
 "nbformat": 4,
 "nbformat_minor": 2
}
